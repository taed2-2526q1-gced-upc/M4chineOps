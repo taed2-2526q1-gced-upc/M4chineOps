{
 "cells": [
  {
   "cell_type": "code",
   "execution_count": null,
   "id": "2fae8b01",
   "metadata": {},
   "outputs": [
    {
     "data": {
      "text/html": [
       "<div>\n",
       "<style scoped>\n",
       "    .dataframe tbody tr th:only-of-type {\n",
       "        vertical-align: middle;\n",
       "    }\n",
       "\n",
       "    .dataframe tbody tr th {\n",
       "        vertical-align: top;\n",
       "    }\n",
       "\n",
       "    .dataframe thead th {\n",
       "        text-align: right;\n",
       "    }\n",
       "</style>\n",
       "<table border=\"1\" class=\"dataframe\">\n",
       "  <thead>\n",
       "    <tr style=\"text-align: right;\">\n",
       "      <th></th>\n",
       "      <th>project_name</th>\n",
       "      <th>emissions</th>\n",
       "      <th>cpu_energy</th>\n",
       "      <th>ram_energy</th>\n",
       "    </tr>\n",
       "  </thead>\n",
       "  <tbody>\n",
       "    <tr>\n",
       "      <th>0</th>\n",
       "      <td>deepfake_recognition_model_training</td>\n",
       "      <td>0.000650</td>\n",
       "      <td>0.002801</td>\n",
       "      <td>0.000933</td>\n",
       "    </tr>\n",
       "    <tr>\n",
       "      <th>1</th>\n",
       "      <td>deepfake_recognition_model_training</td>\n",
       "      <td>0.001591</td>\n",
       "      <td>0.006856</td>\n",
       "      <td>0.002283</td>\n",
       "    </tr>\n",
       "    <tr>\n",
       "      <th>2</th>\n",
       "      <td>deepfake_recognition_model_inference</td>\n",
       "      <td>0.000063</td>\n",
       "      <td>0.000270</td>\n",
       "      <td>0.000090</td>\n",
       "    </tr>\n",
       "    <tr>\n",
       "      <th>3</th>\n",
       "      <td>deepfake_recognition_model_inference</td>\n",
       "      <td>0.000019</td>\n",
       "      <td>0.000081</td>\n",
       "      <td>0.000027</td>\n",
       "    </tr>\n",
       "    <tr>\n",
       "      <th>4</th>\n",
       "      <td>deepfake_recognition_model_inference</td>\n",
       "      <td>0.000024</td>\n",
       "      <td>0.000102</td>\n",
       "      <td>0.000034</td>\n",
       "    </tr>\n",
       "    <tr>\n",
       "      <th>5</th>\n",
       "      <td>deepfake_recognition_model_inference</td>\n",
       "      <td>0.000019</td>\n",
       "      <td>0.000082</td>\n",
       "      <td>0.000027</td>\n",
       "    </tr>\n",
       "    <tr>\n",
       "      <th>6</th>\n",
       "      <td>deepfake_recognition_model_inference</td>\n",
       "      <td>0.000055</td>\n",
       "      <td>0.000236</td>\n",
       "      <td>0.000079</td>\n",
       "    </tr>\n",
       "    <tr>\n",
       "      <th>7</th>\n",
       "      <td>deepfake_recognition_model_inference</td>\n",
       "      <td>0.000060</td>\n",
       "      <td>0.000260</td>\n",
       "      <td>0.000087</td>\n",
       "    </tr>\n",
       "    <tr>\n",
       "      <th>8</th>\n",
       "      <td>deepfake_recognition_model_inference</td>\n",
       "      <td>0.000019</td>\n",
       "      <td>0.000082</td>\n",
       "      <td>0.000027</td>\n",
       "    </tr>\n",
       "  </tbody>\n",
       "</table>\n",
       "</div>"
      ],
      "text/plain": [
       "                           project_name  emissions  cpu_energy  ram_energy\n",
       "0   deepfake_recognition_model_training   0.000650    0.002801    0.000933\n",
       "1   deepfake_recognition_model_training   0.001591    0.006856    0.002283\n",
       "2  deepfake_recognition_model_inference   0.000063    0.000270    0.000090\n",
       "3  deepfake_recognition_model_inference   0.000019    0.000081    0.000027\n",
       "4  deepfake_recognition_model_inference   0.000024    0.000102    0.000034\n",
       "5  deepfake_recognition_model_inference   0.000019    0.000082    0.000027\n",
       "6  deepfake_recognition_model_inference   0.000055    0.000236    0.000079\n",
       "7  deepfake_recognition_model_inference   0.000060    0.000260    0.000087\n",
       "8  deepfake_recognition_model_inference   0.000019    0.000082    0.000027"
      ]
     },
     "execution_count": 7,
     "metadata": {},
     "output_type": "execute_result"
    }
   ],
   "source": [
    "import pandas as pd\n",
    "\n",
    "emissions = pd.read_csv('emissions.csv')\n",
    "emissions[['project_name', 'emissions', 'cpu_energy', 'ram_energy']]"
   ]
  },
  {
   "cell_type": "code",
   "execution_count": 16,
   "id": "5cd543bf",
   "metadata": {},
   "outputs": [
    {
     "data": {
      "text/plain": [
       "Index(['timestamp', 'project_name', 'run_id', 'experiment_id', 'duration',\n",
       "       'emissions', 'emissions_rate', 'cpu_power', 'gpu_power', 'ram_power',\n",
       "       'cpu_energy', 'gpu_energy', 'ram_energy', 'energy_consumed',\n",
       "       'country_name', 'country_iso_code', 'region', 'cloud_provider',\n",
       "       'cloud_region', 'os', 'python_version', 'codecarbon_version',\n",
       "       'cpu_count', 'cpu_model', 'gpu_count', 'gpu_model', 'longitude',\n",
       "       'latitude', 'ram_total_size', 'tracking_mode', 'on_cloud', 'pue'],\n",
       "      dtype='object')"
      ]
     },
     "execution_count": 16,
     "metadata": {},
     "output_type": "execute_result"
    }
   ],
   "source": [
    "emissions.columns"
   ]
  }
 ],
 "metadata": {
  "kernelspec": {
   "display_name": ".venv",
   "language": "python",
   "name": "python3"
  },
  "language_info": {
   "codemirror_mode": {
    "name": "ipython",
    "version": 3
   },
   "file_extension": ".py",
   "mimetype": "text/x-python",
   "name": "python",
   "nbconvert_exporter": "python",
   "pygments_lexer": "ipython3",
   "version": "3.11.0"
  }
 },
 "nbformat": 4,
 "nbformat_minor": 5
}
